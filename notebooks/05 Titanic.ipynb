{
 "cells": [
  {
   "cell_type": "markdown",
   "metadata": {},
   "source": [
    "# Titanic\n",
    "For the previous examples we have used fabricated data, however, in this example we will use the titanic data set. In this example we will compare the results against a decision tree which has been trained to ~90% accuracy."
   ]
  },
  {
   "cell_type": "code",
   "execution_count": null,
   "metadata": {},
   "outputs": [],
   "source": []
  }
 ],
 "metadata": {
  "kernelspec": {
   "display_name": "Python 3.10.2 64-bit ('3.10.2')",
   "language": "python",
   "name": "python3"
  },
  "language_info": {
   "name": "python",
   "version": "3.10.2"
  },
  "orig_nbformat": 4,
  "vscode": {
   "interpreter": {
    "hash": "3b9278ee2d6b3b9b813e94a635a8a2ec956e016017b37eca79e130518102314c"
   }
  }
 },
 "nbformat": 4,
 "nbformat_minor": 2
}
