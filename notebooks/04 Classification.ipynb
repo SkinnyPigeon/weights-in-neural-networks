{
 "cells": [
  {
   "cell_type": "markdown",
   "metadata": {},
   "source": [
    "# Classification\n",
    "So far the examples used so far have been for linear regression models, however, this notebook will examine the same setup and look at a classification example to see how accurate the method is"
   ]
  },
  {
   "cell_type": "code",
   "execution_count": null,
   "metadata": {},
   "outputs": [],
   "source": []
  }
 ],
 "metadata": {
  "kernelspec": {
   "display_name": "Python 3.10.2 64-bit ('3.10.2')",
   "language": "python",
   "name": "python3"
  },
  "language_info": {
   "name": "python",
   "version": "3.10.2"
  },
  "orig_nbformat": 4,
  "vscode": {
   "interpreter": {
    "hash": "3b9278ee2d6b3b9b813e94a635a8a2ec956e016017b37eca79e130518102314c"
   }
  }
 },
 "nbformat": 4,
 "nbformat_minor": 2
}
